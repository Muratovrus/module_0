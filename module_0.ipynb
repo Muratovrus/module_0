{
 "cells": [
  {
   "cell_type": "code",
   "execution_count": 15,
   "metadata": {},
   "outputs": [
    {
     "name": "stdout",
     "output_type": "stream",
     "text": [
      "76\n",
      "4 attempts to guess\n"
     ]
    }
   ],
   "source": [
    "import numpy as np\n",
    "\n",
    "def game_core_v3(number):\n",
    "    '''Сначала устанавливаем любое random число, а потом уменьшаем или увеличиваем его в зависимости от того,\n",
    "    больше оно или меньше нужного.\n",
    "       Функция принимает загаданное число и возвращает число попыток'''\n",
    "    count = 0\n",
    "    predict = np.random.randint(1,101)\n",
    "    \n",
    "    while number != predict:\n",
    "        count+=1\n",
    "        \n",
    "        if number > predict + 90: \n",
    "            predict += 90\n",
    "        elif number < predict - 90: \n",
    "            predict -= 90\n",
    "            \n",
    "        elif number > predict + 80: \n",
    "            predict += 80\n",
    "        elif number < predict - 80: \n",
    "            predict -= 80\n",
    "\n",
    "        elif number > predict + 70: \n",
    "            predict += 70\n",
    "        elif number < predict - 70: \n",
    "            predict -= 70\n",
    "\n",
    "        elif number > predict + 60: \n",
    "            predict += 60\n",
    "        elif number < predict - 60: \n",
    "            predict -= 60\n",
    "\n",
    "        elif number > predict + 50: \n",
    "            predict += 50\n",
    "        elif number < predict - 50: \n",
    "            predict -= 50\n",
    "        \n",
    "        elif number > predict + 40: \n",
    "            predict += 40\n",
    "        elif number < predict - 40: \n",
    "            predict -= 40\n",
    "            \n",
    "        elif number > predict + 30: \n",
    "            predict += 30\n",
    "        elif number < predict - 30: \n",
    "            predict -= 30\n",
    "\n",
    "        elif number > predict + 20: \n",
    "            predict += 20\n",
    "        elif number < predict - 20: \n",
    "            predict -= 20\n",
    "     \n",
    "        elif number > predict + 10: \n",
    "            predict += 10\n",
    "        elif number < predict - 10: \n",
    "            predict -= 10\n",
    "\n",
    "        elif number > predict:\n",
    "            predict += 1\n",
    "        elif number < predict:\n",
    "            predict -= 1\n",
    "            \n",
    "    return count # выход из цикла, если угадали\n",
    "\n",
    "\n",
    "print(game_core_v3(int(input())),'attempts to guess')"
   ]
  },
  {
   "cell_type": "code",
   "execution_count": null,
   "metadata": {},
   "outputs": [],
   "source": []
  }
 ],
 "metadata": {
  "kernelspec": {
   "display_name": "Python 3",
   "language": "python",
   "name": "python3"
  },
  "language_info": {
   "codemirror_mode": {
    "name": "ipython",
    "version": 3
   },
   "file_extension": ".py",
   "mimetype": "text/x-python",
   "name": "python",
   "nbconvert_exporter": "python",
   "pygments_lexer": "ipython3",
   "version": "3.8.5"
  }
 },
 "nbformat": 4,
 "nbformat_minor": 4
}
